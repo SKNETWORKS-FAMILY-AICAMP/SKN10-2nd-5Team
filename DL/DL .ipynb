{
 "cells": [
  {
   "cell_type": "markdown",
   "metadata": {
    "id": "AmYEfR6mh5JJ"
   },
   "source": [
    "# Dataset"
   ]
  },
  {
   "cell_type": "code",
   "execution_count": 1,
   "metadata": {
    "collapsed": true,
    "executionInfo": {
     "elapsed": 16891,
     "status": "ok",
     "timestamp": 1741055712836,
     "user": {
      "displayName": "Seokhyeon Kwon",
      "userId": "02365031441986561291"
     },
     "user_tz": -540
    },
    "id": "KPdF0P3aSeKA"
   },
   "outputs": [],
   "source": [
    "import pandas as pd\n",
    "import matplotlib.pyplot as plt\n",
    "import seaborn as sns\n",
    "import numpy as np\n",
    "\n",
    "import sys\n",
    "import random\n",
    "import torch\n",
    "\n",
    "from sklearn.impute import SimpleImputer  #결측치 자동\n",
    "from sklearn.preprocessing import LabelEncoder\n",
    "\n",
    "from sklearn.decomposition import PCA\n",
    "from sklearn.model_selection import train_test_split\n",
    "from sklearn.preprocessing import StandardScaler  #scaling\n",
    "from imblearn.over_sampling import SMOTE #smote\n",
    "from sklearn.utils.class_weight import compute_class_weight #scaling- weight\n",
    "\n",
    "\n",
    "#DL Model\n",
    "#from tensorflow.keras.models import Sequential\n",
    "#from tensorflow.keras.layers import Dense, Dropout, BatchNormalization\n",
    "#from tensorflow.keras.optimizers import Adam\n",
    "#from scikeras.wrappers import KerasClassifier\n",
    "\n",
    "file_path = \"../data/WA_Fn-UseC_-Telco-Customer-Churn.csv\"\n",
    "df_original = pd.read_csv(file_path)  # 원본 데이터 저장\n",
    "df = df_original.copy()  # 작업용 복사본 생성\n"
   ]
  },
  {
   "cell_type": "markdown",
   "metadata": {
    "id": "Vea6mTYMxY98"
   },
   "source": [
    "## random seed\n"
   ]
  },
  {
   "cell_type": "code",
   "execution_count": 2,
   "metadata": {
    "executionInfo": {
     "elapsed": 25,
     "status": "ok",
     "timestamp": 1741055718747,
     "user": {
      "displayName": "Seokhyeon Kwon",
      "userId": "02365031441986561291"
     },
     "user_tz": -540
    },
    "id": "5IX915PSxa1F"
   },
   "outputs": [],
   "source": [
    "# 랜덤 시드 설정 (데이터셋 준비 전에 실행)\n",
    "def set_seed(seed=42):\n",
    "    random.seed(seed)\n",
    "    np.random.seed(seed)\n",
    "    torch.manual_seed(seed)\n",
    "    torch.cuda.manual_seed(seed)\n",
    "    torch.cuda.manual_seed_all(seed)\n",
    "    torch.backends.cudnn.deterministic = True\n",
    "    torch.backends.cudnn.benchmark = False\n",
    "\n",
    "set_seed(42)  # ⬅ 데이터셋 준비 전에 실행"
   ]
  },
  {
   "cell_type": "markdown",
   "metadata": {
    "id": "vbIMonkLVPTa"
   },
   "source": [
    "# Preprocessing\n",
    "\n",
    "\n"
   ]
  },
  {
   "cell_type": "code",
   "execution_count": 4,
   "metadata": {
    "executionInfo": {
     "elapsed": 14,
     "status": "ok",
     "timestamp": 1741055718763,
     "user": {
      "displayName": "Seokhyeon Kwon",
      "userId": "02365031441986561291"
     },
     "user_tz": -540
    },
    "id": "frAP-v9ZpcGm"
   },
   "outputs": [],
   "source": [
    "import numpy as np\n",
    "import pandas as pd\n",
    "\n",
    "#from utils import reset_seeds\n",
    "from sklearn.preprocessing import LabelEncoder\n",
    "from sklearn.preprocessing import MinMaxScaler,StandardScaler\n",
    "from sklearn.model_selection import train_test_split\n",
    "from imblearn.combine import SMOTEENN\n",
    "from imblearn.over_sampling import SMOTE\n",
    "from imblearn.under_sampling import EditedNearestNeighbours\n",
    "from imblearn.combine import SMOTEENN\n",
    "\n",
    "import torch\n",
    "import torch.nn as nn\n",
    "import torch.optim as optim\n",
    "import matplotlib.pyplot as plt\n",
    "from torch.utils.data import DataLoader, TensorDataset, random_split\n",
    "from tqdm import tqdm\n"
   ]
  },
  {
   "cell_type": "code",
   "execution_count": 5,
   "metadata": {
    "colab": {
     "base_uri": "https://localhost:8080/"
    },
    "executionInfo": {
     "elapsed": 52230,
     "status": "ok",
     "timestamp": 1741055770995,
     "user": {
      "displayName": "Seokhyeon Kwon",
      "userId": "02365031441986561291"
     },
     "user_tz": -540
    },
    "id": "3EcdHf-apTO9",
    "outputId": "ef5fad66-36e9-4dd5-f53a-d831cc59fbf1"
   },
   "outputs": [
    {
     "name": "stdout",
     "output_type": "stream",
     "text": [
      "Index(['SeniorCitizen', 'tenure', 'MonthlyCharges', 'TotalCharges', 'Churn',\n",
      "       'tenure_fixed', 'NEW_AVG_Charges', 'MonthlyCharges_fixed',\n",
      "       'NEW_Increase', 'customerID_0003-MKNFE',\n",
      "       ...\n",
      "       'Contract_Two year', 'PaperlessBilling_Yes',\n",
      "       'PaymentMethod_Credit card (automatic)',\n",
      "       'PaymentMethod_Electronic check', 'PaymentMethod_Mailed check',\n",
      "       'NEW_TENURE_YEAR_1-2 Year', 'NEW_TENURE_YEAR_2-3 Year',\n",
      "       'NEW_TENURE_YEAR_3-4 Year', 'NEW_TENURE_YEAR_4-5 Year',\n",
      "       'NEW_TENURE_YEAR_5-6 Year'],\n",
      "      dtype='object', length=7082)\n"
     ]
    },
    {
     "name": "stderr",
     "output_type": "stream",
     "text": [
      "c:\\dev\\github\\SKN10-2nd-5Team-1\\.venv\\Lib\\site-packages\\joblib\\externals\\loky\\backend\\context.py:136: UserWarning: Could not find the number of physical cores for the following reason:\n",
      "[WinError 2] 지정된 파일을 찾을 수 없습니다\n",
      "Returning the number of logical cores instead. You can silence this warning by setting LOKY_MAX_CPU_COUNT to the number of cores you want to use.\n",
      "  warnings.warn(\n",
      "  File \"c:\\dev\\github\\SKN10-2nd-5Team-1\\.venv\\Lib\\site-packages\\joblib\\externals\\loky\\backend\\context.py\", line 257, in _count_physical_cores\n",
      "    cpu_info = subprocess.run(\n",
      "        \"wmic CPU Get NumberOfCores /Format:csv\".split(),\n",
      "        capture_output=True,\n",
      "        text=True,\n",
      "    )\n",
      "  File \"C:\\Users\\Playdata\\AppData\\Local\\Programs\\Python\\Python313\\Lib\\subprocess.py\", line 556, in run\n",
      "    with Popen(*popenargs, **kwargs) as process:\n",
      "         ~~~~~^^^^^^^^^^^^^^^^^^^^^^\n",
      "  File \"C:\\Users\\Playdata\\AppData\\Local\\Programs\\Python\\Python313\\Lib\\subprocess.py\", line 1038, in __init__\n",
      "    self._execute_child(args, executable, preexec_fn, close_fds,\n",
      "    ~~~~~~~~~~~~~~~~~~~^^^^^^^^^^^^^^^^^^^^^^^^^^^^^^^^^^^^^^^^^\n",
      "                        pass_fds, cwd, env,\n",
      "                        ^^^^^^^^^^^^^^^^^^^\n",
      "    ...<5 lines>...\n",
      "                        gid, gids, uid, umask,\n",
      "                        ^^^^^^^^^^^^^^^^^^^^^^\n",
      "                        start_new_session, process_group)\n",
      "                        ^^^^^^^^^^^^^^^^^^^^^^^^^^^^^^^^^\n",
      "  File \"C:\\Users\\Playdata\\AppData\\Local\\Programs\\Python\\Python313\\Lib\\subprocess.py\", line 1550, in _execute_child\n",
      "    hp, ht, pid, tid = _winapi.CreateProcess(executable, args,\n",
      "                       ~~~~~~~~~~~~~~~~~~~~~^^^^^^^^^^^^^^^^^^\n",
      "                             # no special security\n",
      "                             ^^^^^^^^^^^^^^^^^^^^^\n",
      "    ...<4 lines>...\n",
      "                             cwd,\n",
      "                             ^^^^\n",
      "                             startupinfo)\n",
      "                             ^^^^^^^^^^^^\n"
     ]
    }
   ],
   "source": [
    "def __create_custom_features(df):\n",
    "    df = df.copy()  # 원본 데이터프레임 수정 방지\n",
    "\n",
    "    #  숫자로 변환 (오류 방지)\n",
    "    df[\"TotalCharges\"] = pd.to_numeric(df[\"TotalCharges\"], errors='coerce')\n",
    "    df[\"tenure\"] = pd.to_numeric(df[\"tenure\"], errors='coerce')\n",
    "    df[\"MonthlyCharges\"] = pd.to_numeric(df[\"MonthlyCharges\"], errors='coerce')\n",
    "\n",
    "    #  NaN 값 처리\n",
    "    df[\"TotalCharges\"] = df[\"TotalCharges\"].fillna(0)\n",
    "\n",
    "    # 신규 피처 생성\n",
    "    df.loc[(df[\"tenure\"] >= 0) & (df[\"tenure\"] <= 12), \"NEW_TENURE_YEAR\"] = \"0-1 Year\"\n",
    "    df.loc[(df[\"tenure\"] > 12) & (df[\"tenure\"] <= 24), \"NEW_TENURE_YEAR\"] = \"1-2 Year\"\n",
    "    df.loc[(df[\"tenure\"] > 24) & (df[\"tenure\"] <= 36), \"NEW_TENURE_YEAR\"] = \"2-3 Year\"\n",
    "    df.loc[(df[\"tenure\"] > 36) & (df[\"tenure\"] <= 48), \"NEW_TENURE_YEAR\"] = \"3-4 Year\"\n",
    "    df.loc[(df[\"tenure\"] > 48) & (df[\"tenure\"] <= 60), \"NEW_TENURE_YEAR\"] = \"4-5 Year\"\n",
    "    df.loc[(df[\"tenure\"] > 60) & (df[\"tenure\"] <= 72), \"NEW_TENURE_YEAR\"] = \"5-6 Year\"\n",
    "\n",
    "    #  Zero-Division 방지: tenure=0인 경우 1로 설정\n",
    "    df[\"tenure_fixed\"] = df[\"tenure\"].replace(0, 1)\n",
    "\n",
    "    #  연산 수행 가능하도록 수정 (무한대 발생 방지)\n",
    "    df[\"NEW_AVG_Charges\"] = df[\"TotalCharges\"] / df[\"tenure_fixed\"]\n",
    "\n",
    "    # MonthlyCharges가 0이면 1로 보정하여 Zero-Division 방지\n",
    "    df[\"MonthlyCharges_fixed\"] = df[\"MonthlyCharges\"].replace(0, 1)\n",
    "    df[\"NEW_Increase\"] = df[\"NEW_AVG_Charges\"] / df[\"MonthlyCharges_fixed\"]\n",
    "\n",
    "    return df\n",
    "\n",
    "def __cleaning_data(df):\n",
    "    df = df.dropna()\n",
    "    num_cols = ['tenure', 'MonthlyCharges', 'TotalCharges', 'NEW_AVG_Charges', 'NEW_Increase']\n",
    "\n",
    "    # 무한대 값 처리\n",
    "    df.replace([np.inf, -np.inf], np.nan, inplace=True)  # inf를 NaN으로 변환\n",
    "    df.fillna(0, inplace=True)  # NaN 값 채우기\n",
    "\n",
    "    #  MinMaxScaler 적용\n",
    "    mms = MinMaxScaler()\n",
    "    df[num_cols] = mms.fit_transform(df[num_cols])\n",
    "\n",
    "    return df\n",
    "\n",
    "def __encode_data(df):\n",
    "    df = df.copy()\n",
    "\n",
    "    #  Churn이 문자열이면 숫자로 변환\n",
    "    if 'Churn' in df.columns and df['Churn'].dtype == 'object':\n",
    "        df['Churn'] = df['Churn'].map({'Yes': 1, 'No': 0})\n",
    "\n",
    "    #  범주형 변수 원-핫 인코딩\n",
    "    categorical_cols = df.select_dtypes(include=['object']).columns.tolist()\n",
    "    df = pd.get_dummies(df, columns=categorical_cols, drop_first=True)\n",
    "\n",
    "    return df\n",
    "\n",
    "def __smote_data(X, y):\n",
    "    sm = SMOTEENN(sampling_strategy=0.5)\n",
    "    X_smo, y_smo = sm.fit_resample(X, y)\n",
    "    return X_smo, y_smo\n",
    "\n",
    "#  1. 전처리 함수 실행\n",
    "df = __create_custom_features(df)\n",
    "df = __cleaning_data(df)\n",
    "df = __encode_data(df)\n",
    "\n",
    "# 2. Churn 컬럼 확인\n",
    "print(df.columns)  # \"Churn\"이 사라졌는지 확인\n",
    "\n",
    "#  3. X, y 분리\n",
    "if 'Churn' in df.columns:\n",
    "    X = df.drop(columns=['Churn']).values.astype(np.float32)\n",
    "    y = df['Churn'].values.astype(np.int64)\n",
    "else:\n",
    "    raise KeyError(\"Churn 컬럼이 데이터프레임에서 사라졌습니다. 전처리 과정을 다시 확인하세요.\")\n",
    "\n",
    "#  4. 불균형 데이터 처리\n",
    "X, y = __smote_data(X, y)\n",
    "\n",
    "#  이후 딥러닝 학습 코드 실행 가능\n"
   ]
  },
  {
   "cell_type": "code",
   "execution_count": 6,
   "metadata": {
    "colab": {
     "base_uri": "https://localhost:8080/"
    },
    "executionInfo": {
     "elapsed": 52086,
     "status": "ok",
     "timestamp": 1741055823078,
     "user": {
      "displayName": "Seokhyeon Kwon",
      "userId": "02365031441986561291"
     },
     "user_tz": -540
    },
    "id": "xZsvXtdIuhBQ",
    "outputId": "078860dd-730b-459e-813b-840d3dcad8c2"
   },
   "outputs": [
    {
     "name": "stdout",
     "output_type": "stream",
     "text": [
      "SeniorCitizen                 int64\n",
      "tenure                      float64\n",
      "MonthlyCharges              float64\n",
      "TotalCharges                float64\n",
      "Churn                         int64\n",
      "                             ...   \n",
      "NEW_TENURE_YEAR_1-2 Year       bool\n",
      "NEW_TENURE_YEAR_2-3 Year       bool\n",
      "NEW_TENURE_YEAR_3-4 Year       bool\n",
      "NEW_TENURE_YEAR_4-5 Year       bool\n",
      "NEW_TENURE_YEAR_5-6 Year       bool\n",
      "Length: 7082, dtype: object\n"
     ]
    }
   ],
   "source": [
    "#  1. 전처리 함수 실행\n",
    "df = __create_custom_features(df)\n",
    "df = __cleaning_data(df)\n",
    "df = __encode_data(df)\n",
    "\n",
    "#  2. Churn 컬럼 확인\n",
    "print(df.dtypes)  # 데이터 타입 확인\n",
    "\n",
    "# 3. bool 타입 컬럼을 int로 변환 (이 문제 해결)\n",
    "df = df.astype({col: int for col in df.select_dtypes(include=['bool']).columns})\n",
    "\n",
    "#  4. X, y 분리\n",
    "if 'Churn' in df.columns:\n",
    "    X = df.drop(columns=['Churn']).values.astype(np.float32)  # 변환 오류 방지됨\n",
    "    y = df['Churn'].values.astype(np.int64)\n",
    "else:\n",
    "    raise KeyError(\"Churn 컬럼이 데이터프레임에서 사라졌습니다. 전처리 과정을 다시 확인하세요.\")\n",
    "\n",
    "# 5. 불균형 데이터 처리\n",
    "X, y = __smote_data(X, y)\n",
    "\n",
    "# 이후 딥러닝 학습 코드 실행 가능\n",
    "\n"
   ]
  },
  {
   "cell_type": "markdown",
   "metadata": {
    "id": "SWblHBcz0ipu"
   },
   "source": [
    "# Model"
   ]
  },
  {
   "cell_type": "code",
   "execution_count": 7,
   "metadata": {
    "executionInfo": {
     "elapsed": 10,
     "status": "ok",
     "timestamp": 1741055823085,
     "user": {
      "displayName": "Seokhyeon Kwon",
      "userId": "02365031441986561291"
     },
     "user_tz": -540
    },
    "id": "LvaGFzXcxwCv"
   },
   "outputs": [],
   "source": [
    "# 1. 모델 초기화\n",
    "device = torch.device(\"cuda\" if torch.cuda.is_available() else \"cpu\")\n",
    "\n",
    "# 모델 설정\n",
    "input_size = X.shape[1]  # X의 feature 개수\n",
    "output_size = len(set(y))  # 클래스 개수\n",
    "hidden_size = 32  # 은닉층 크기\n",
    "\n",
    "class MultiModel(nn.Module):\n",
    "    def __init__(self, input_size, out_size, hidden_size=32):\n",
    "        super().__init__()\n",
    "        self.lieanr_stack = nn.Sequential(\n",
    "            nn.Flatten(),\n",
    "            nn.Linear(input_size, hidden_size),\n",
    "            nn.ReLU(),\n",
    "            nn.Linear(hidden_size, hidden_size*2),\n",
    "            nn.ReLU(),\n",
    "            nn.Linear(hidden_size*2, out_size)\n",
    "        )\n",
    "\n",
    "    def forward(self, x):\n",
    "        return self.lieanr_stack(x)\n",
    "\n",
    "model = MultiModel(input_size, output_size, hidden_size).to(device)"
   ]
  },
  {
   "cell_type": "code",
   "execution_count": 8,
   "metadata": {
    "executionInfo": {
     "elapsed": 1130,
     "status": "ok",
     "timestamp": 1741055824218,
     "user": {
      "displayName": "Seokhyeon Kwon",
      "userId": "02365031441986561291"
     },
     "user_tz": -540
    },
    "id": "CUIwJhmL7_kA"
   },
   "outputs": [],
   "source": [
    "#  2. 손실 함수 및 옵티마이저 설정\n",
    "criterion = nn.CrossEntropyLoss()\n",
    "optimizer = optim.Adam(model.parameters(), lr=0.001)\n",
    "\n",
    "#  3. 데이터셋을 훈련(train)과 검증(validation)으로 분할\n",
    "batch_size = 32\n",
    "dataset = TensorDataset(torch.tensor(X, dtype=torch.float32), torch.tensor(y, dtype=torch.long))\n",
    "train_size = int(0.8 * len(dataset))  # 80% 훈련 데이터\n",
    "val_size = len(dataset) - train_size  # 20% 검증 데이터\n",
    "train_dataset, val_dataset = random_split(dataset, [train_size, val_size])\n",
    "\n",
    "train_loader = DataLoader(train_dataset, batch_size=batch_size, shuffle=True)\n",
    "val_loader = DataLoader(val_dataset, batch_size=batch_size, shuffle=False)"
   ]
  },
  {
   "cell_type": "markdown",
   "metadata": {
    "id": "852g9u-08CFc"
   },
   "source": [
    "## Early Stopping"
   ]
  },
  {
   "cell_type": "code",
   "execution_count": 9,
   "metadata": {
    "executionInfo": {
     "elapsed": 4,
     "status": "ok",
     "timestamp": 1741055824238,
     "user": {
      "displayName": "Seokhyeon Kwon",
      "userId": "02365031441986561291"
     },
     "user_tz": -540
    },
    "id": "pgrIUAY18Q1p"
   },
   "outputs": [],
   "source": [
    "# 4. Early Stopping 클래스\n",
    "class EarlyStopping:\n",
    "    def __init__(self, patience=5, delta=0):\n",
    "        self.patience = patience\n",
    "        self.delta = delta\n",
    "        self.best_loss = np.inf\n",
    "        self.counter = 0\n",
    "        self.early_stop = False\n",
    "\n",
    "    def __call__(self, val_loss):\n",
    "        if val_loss < self.best_loss - self.delta:\n",
    "            self.best_loss = val_loss\n",
    "            self.counter = 0\n",
    "        else:\n",
    "            self.counter += 1\n",
    "            if self.counter >= self.patience:\n",
    "                self.early_stop = True  #  조기 종료"
   ]
  },
  {
   "cell_type": "markdown",
   "metadata": {
    "id": "YvuGJqHx8MWI"
   },
   "source": [
    "## Traing Loop"
   ]
  },
  {
   "cell_type": "code",
   "execution_count": 10,
   "metadata": {
    "executionInfo": {
     "elapsed": 14,
     "status": "ok",
     "timestamp": 1741055824255,
     "user": {
      "displayName": "Seokhyeon Kwon",
      "userId": "02365031441986561291"
     },
     "user_tz": -540
    },
    "id": "xKjsoKjB8Kba"
   },
   "outputs": [],
   "source": [
    "#  5. Training Loop (Validation Accuracy 기준으로 모델 저장)\n",
    "def train_loop(model, train_loader, val_loader, criterion, optimizer, epochs=20, device='cpu', patience=5):\n",
    "    model.train()\n",
    "    train_loss_history = []\n",
    "    val_loss_history = []\n",
    "    train_acc_history = []\n",
    "    val_acc_history = []\n",
    "\n",
    "    best_val_acc = 0.0  #  가장 높은 Validation Accuracy 저장\n",
    "    best_model_path = \"best_model.pth\"  #  최적 모델 저장 경로\n",
    "    early_stopping = EarlyStopping(patience=patience)\n",
    "\n",
    "    for epoch in tqdm(range(epochs), desc=\"Training Progress\", leave=True):\n",
    "        total_loss, correct, total = 0, 0, 0\n",
    "\n",
    "        for batch_X, batch_y in train_loader :\n",
    "            batch_X, batch_y = batch_X.to(device), batch_y.to(device)\n",
    "\n",
    "            # Forward pass\n",
    "            outputs = model(batch_X)\n",
    "            loss = criterion(outputs, batch_y)\n",
    "\n",
    "            # Backward pass\n",
    "            optimizer.zero_grad()\n",
    "            loss.backward()\n",
    "            optimizer.step()\n",
    "\n",
    "            total_loss += loss.item()\n",
    "\n",
    "            # 정확도 계산\n",
    "            _, predicted = torch.max(outputs, 1)\n",
    "            correct += (predicted == batch_y).sum().item()\n",
    "            total += batch_y.size(0)\n",
    "\n",
    "        avg_train_loss = total_loss / len(train_loader)\n",
    "        train_accuracy = correct / total * 100\n",
    "        train_loss_history.append(avg_train_loss)\n",
    "        train_acc_history.append(train_accuracy)\n",
    "\n",
    "        #  검증 데이터 평가 (Validation)\n",
    "        model.eval()\n",
    "        val_loss, correct, total = 0, 0, 0\n",
    "\n",
    "        with torch.no_grad():\n",
    "            for batch_X, batch_y in val_loader:\n",
    "                batch_X, batch_y = batch_X.to(device), batch_y.to(device)\n",
    "                outputs = model(batch_X)\n",
    "                loss = criterion(outputs, batch_y)\n",
    "                val_loss += loss.item()\n",
    "\n",
    "                # 정확도 계산\n",
    "                _, predicted = torch.max(outputs, 1)\n",
    "                correct += (predicted == batch_y).sum().item()\n",
    "                total += batch_y.size(0)\n",
    "\n",
    "        avg_val_loss = val_loss / len(val_loader)\n",
    "        val_accuracy = correct / total * 100\n",
    "        val_loss_history.append(avg_val_loss)\n",
    "        val_acc_history.append(val_accuracy)\n",
    "\n",
    "        tqdm.write(f\"Epoch [{epoch+1}/{epochs}], Train Loss: {avg_train_loss:.4f}, Train Acc: {train_accuracy:.2f}% | Val Loss: {avg_val_loss:.4f}, Val Acc: {val_accuracy:.2f}%\")\n",
    "\n",
    "        #  Validation Accuracy가 최고라면 모델 저장\n",
    "        if val_accuracy > best_val_acc:\n",
    "            best_val_acc = val_accuracy\n",
    "            torch.save(model.state_dict(), best_model_path)  #  최적 모델 저장\n",
    "            print(f\" 모델 저장: Epoch {epoch+1}, Best Val Acc: {best_val_acc:.2f}%\")\n",
    "\n",
    "        #  Early Stopping 체크\n",
    "        early_stopping(avg_val_loss)\n",
    "        if early_stopping.early_stop:\n",
    "            print(f\"Early stopping at epoch {epoch+1}\")\n",
    "            break\n",
    "\n",
    "    return train_loss_history, val_loss_history, train_acc_history, val_acc_history"
   ]
  },
  {
   "cell_type": "markdown",
   "metadata": {
    "id": "J53UYTY18bp0"
   },
   "source": [
    "## Training"
   ]
  },
  {
   "cell_type": "code",
   "execution_count": 11,
   "metadata": {
    "colab": {
     "base_uri": "https://localhost:8080/",
     "height": 925
    },
    "executionInfo": {
     "elapsed": 10442,
     "status": "ok",
     "timestamp": 1741055834707,
     "user": {
      "displayName": "Seokhyeon Kwon",
      "userId": "02365031441986561291"
     },
     "user_tz": -540
    },
    "id": "b04pnum68a7q",
    "outputId": "96e3e5eb-a8cb-4bbd-9384-0116f1eeb8b5"
   },
   "outputs": [
    {
     "name": "stderr",
     "output_type": "stream",
     "text": [
      "Training Progress:   2%|▏         | 1/50 [00:00<00:32,  1.50it/s]"
     ]
    },
    {
     "name": "stdout",
     "output_type": "stream",
     "text": [
      "Epoch [1/50], Train Loss: 0.3772, Train Acc: 85.91% | Val Loss: 0.1479, Val Acc: 94.98%\n",
      " 모델 저장: Epoch 1, Best Val Acc: 94.98%\n"
     ]
    },
    {
     "name": "stderr",
     "output_type": "stream",
     "text": [
      "Training Progress:   4%|▍         | 2/50 [00:01<00:29,  1.63it/s]"
     ]
    },
    {
     "name": "stdout",
     "output_type": "stream",
     "text": [
      "Epoch [2/50], Train Loss: 0.1402, Train Acc: 94.70% | Val Loss: 0.1308, Val Acc: 95.47%\n",
      " 모델 저장: Epoch 2, Best Val Acc: 95.47%\n"
     ]
    },
    {
     "name": "stderr",
     "output_type": "stream",
     "text": [
      "Training Progress:   6%|▌         | 3/50 [00:02<00:33,  1.41it/s]"
     ]
    },
    {
     "name": "stdout",
     "output_type": "stream",
     "text": [
      "Epoch [3/50], Train Loss: 0.1124, Train Acc: 96.05% | Val Loss: 0.1162, Val Acc: 96.08%\n",
      " 모델 저장: Epoch 3, Best Val Acc: 96.08%\n"
     ]
    },
    {
     "name": "stderr",
     "output_type": "stream",
     "text": [
      "Training Progress:   8%|▊         | 4/50 [00:02<00:36,  1.26it/s]"
     ]
    },
    {
     "name": "stdout",
     "output_type": "stream",
     "text": [
      "Epoch [4/50], Train Loss: 0.0897, Train Acc: 96.81% | Val Loss: 0.1251, Val Acc: 95.34%\n"
     ]
    },
    {
     "name": "stderr",
     "output_type": "stream",
     "text": [
      "Training Progress:  10%|█         | 5/50 [00:03<00:38,  1.18it/s]"
     ]
    },
    {
     "name": "stdout",
     "output_type": "stream",
     "text": [
      "Epoch [5/50], Train Loss: 0.0667, Train Acc: 97.76% | Val Loss: 0.0982, Val Acc: 96.20%\n",
      " 모델 저장: Epoch 5, Best Val Acc: 96.20%\n"
     ]
    },
    {
     "name": "stderr",
     "output_type": "stream",
     "text": [
      "Training Progress:  12%|█▏        | 6/50 [00:04<00:33,  1.31it/s]"
     ]
    },
    {
     "name": "stdout",
     "output_type": "stream",
     "text": [
      "Epoch [6/50], Train Loss: 0.0474, Train Acc: 98.53% | Val Loss: 0.0912, Val Acc: 96.32%\n",
      " 모델 저장: Epoch 6, Best Val Acc: 96.32%\n"
     ]
    },
    {
     "name": "stderr",
     "output_type": "stream",
     "text": [
      "Training Progress:  14%|█▍        | 7/50 [00:05<00:31,  1.37it/s]"
     ]
    },
    {
     "name": "stdout",
     "output_type": "stream",
     "text": [
      "Epoch [7/50], Train Loss: 0.0250, Train Acc: 99.48% | Val Loss: 0.0853, Val Acc: 96.20%\n"
     ]
    },
    {
     "name": "stderr",
     "output_type": "stream",
     "text": [
      "Training Progress:  16%|█▌        | 8/50 [00:05<00:29,  1.42it/s]"
     ]
    },
    {
     "name": "stdout",
     "output_type": "stream",
     "text": [
      "Epoch [8/50], Train Loss: 0.0135, Train Acc: 99.82% | Val Loss: 0.0886, Val Acc: 96.45%\n",
      " 모델 저장: Epoch 8, Best Val Acc: 96.45%\n"
     ]
    },
    {
     "name": "stderr",
     "output_type": "stream",
     "text": [
      "Training Progress:  18%|█▊        | 9/50 [00:06<00:27,  1.51it/s]"
     ]
    },
    {
     "name": "stdout",
     "output_type": "stream",
     "text": [
      "Epoch [9/50], Train Loss: 0.0066, Train Acc: 99.97% | Val Loss: 0.0823, Val Acc: 96.57%\n",
      " 모델 저장: Epoch 9, Best Val Acc: 96.57%\n"
     ]
    },
    {
     "name": "stderr",
     "output_type": "stream",
     "text": [
      "Training Progress:  20%|██        | 10/50 [00:07<00:29,  1.35it/s]"
     ]
    },
    {
     "name": "stdout",
     "output_type": "stream",
     "text": [
      "Epoch [10/50], Train Loss: 0.0037, Train Acc: 100.00% | Val Loss: 0.0846, Val Acc: 96.08%\n"
     ]
    },
    {
     "name": "stderr",
     "output_type": "stream",
     "text": [
      "Training Progress:  22%|██▏       | 11/50 [00:08<00:31,  1.25it/s]"
     ]
    },
    {
     "name": "stdout",
     "output_type": "stream",
     "text": [
      "Epoch [11/50], Train Loss: 0.0024, Train Acc: 100.00% | Val Loss: 0.0819, Val Acc: 96.57%\n"
     ]
    },
    {
     "name": "stderr",
     "output_type": "stream",
     "text": [
      "Training Progress:  24%|██▍       | 12/50 [00:09<00:29,  1.28it/s]"
     ]
    },
    {
     "name": "stdout",
     "output_type": "stream",
     "text": [
      "Epoch [12/50], Train Loss: 0.0017, Train Acc: 100.00% | Val Loss: 0.0818, Val Acc: 96.69%\n",
      " 모델 저장: Epoch 12, Best Val Acc: 96.69%\n"
     ]
    },
    {
     "name": "stderr",
     "output_type": "stream",
     "text": [
      "Training Progress:  26%|██▌       | 13/50 [00:10<00:33,  1.11it/s]"
     ]
    },
    {
     "name": "stdout",
     "output_type": "stream",
     "text": [
      "Epoch [13/50], Train Loss: 0.0013, Train Acc: 100.00% | Val Loss: 0.0811, Val Acc: 96.57%\n"
     ]
    },
    {
     "name": "stderr",
     "output_type": "stream",
     "text": [
      "Training Progress:  28%|██▊       | 14/50 [00:11<00:32,  1.12it/s]"
     ]
    },
    {
     "name": "stdout",
     "output_type": "stream",
     "text": [
      "Epoch [14/50], Train Loss: 0.0010, Train Acc: 100.00% | Val Loss: 0.0837, Val Acc: 96.32%\n"
     ]
    },
    {
     "name": "stderr",
     "output_type": "stream",
     "text": [
      "Training Progress:  30%|███       | 15/50 [00:11<00:28,  1.22it/s]"
     ]
    },
    {
     "name": "stdout",
     "output_type": "stream",
     "text": [
      "Epoch [15/50], Train Loss: 0.0008, Train Acc: 100.00% | Val Loss: 0.0809, Val Acc: 96.57%\n"
     ]
    },
    {
     "name": "stderr",
     "output_type": "stream",
     "text": [
      "Training Progress:  32%|███▏      | 16/50 [00:12<00:29,  1.15it/s]"
     ]
    },
    {
     "name": "stdout",
     "output_type": "stream",
     "text": [
      "Epoch [16/50], Train Loss: 0.0006, Train Acc: 100.00% | Val Loss: 0.0822, Val Acc: 96.69%\n"
     ]
    },
    {
     "name": "stderr",
     "output_type": "stream",
     "text": [
      "Training Progress:  34%|███▍      | 17/50 [00:13<00:29,  1.11it/s]"
     ]
    },
    {
     "name": "stdout",
     "output_type": "stream",
     "text": [
      "Epoch [17/50], Train Loss: 0.0005, Train Acc: 100.00% | Val Loss: 0.0834, Val Acc: 96.45%\n"
     ]
    },
    {
     "name": "stderr",
     "output_type": "stream",
     "text": [
      "Training Progress:  36%|███▌      | 18/50 [00:14<00:26,  1.20it/s]"
     ]
    },
    {
     "name": "stdout",
     "output_type": "stream",
     "text": [
      "Epoch [18/50], Train Loss: 0.0005, Train Acc: 100.00% | Val Loss: 0.0821, Val Acc: 96.69%\n"
     ]
    },
    {
     "name": "stderr",
     "output_type": "stream",
     "text": [
      "Training Progress:  38%|███▊      | 19/50 [00:15<00:26,  1.18it/s]"
     ]
    },
    {
     "name": "stdout",
     "output_type": "stream",
     "text": [
      "Epoch [19/50], Train Loss: 0.0004, Train Acc: 100.00% | Val Loss: 0.0817, Val Acc: 96.32%\n"
     ]
    },
    {
     "name": "stderr",
     "output_type": "stream",
     "text": [
      "Training Progress:  40%|████      | 20/50 [00:15<00:23,  1.29it/s]"
     ]
    },
    {
     "name": "stdout",
     "output_type": "stream",
     "text": [
      "Epoch [20/50], Train Loss: 0.0003, Train Acc: 100.00% | Val Loss: 0.0819, Val Acc: 96.45%\n"
     ]
    },
    {
     "name": "stderr",
     "output_type": "stream",
     "text": [
      "Training Progress:  42%|████▏     | 21/50 [00:16<00:22,  1.30it/s]"
     ]
    },
    {
     "name": "stdout",
     "output_type": "stream",
     "text": [
      "Epoch [21/50], Train Loss: 0.0003, Train Acc: 100.00% | Val Loss: 0.0822, Val Acc: 96.57%\n"
     ]
    },
    {
     "name": "stderr",
     "output_type": "stream",
     "text": [
      "Training Progress:  42%|████▏     | 21/50 [00:17<00:24,  1.20it/s]\n"
     ]
    },
    {
     "name": "stdout",
     "output_type": "stream",
     "text": [
      "Epoch [22/50], Train Loss: 0.0003, Train Acc: 100.00% | Val Loss: 0.0833, Val Acc: 96.57%\n",
      "Early stopping at epoch 22\n"
     ]
    },
    {
     "data": {
      "image/png": "[encoded data removed]",
      "text/plain": [
       "<Figure size 1200x500 with 2 Axes>"
      ]
     },
     "metadata": {},
     "output_type": "display_data"
    }
   ],
   "source": [
    "#  7. Training 실행\n",
    "epochs = 50  # Early Stopping으로 조기 종료 가능\n",
    "train_loss, val_loss, train_acc, val_acc = train_loop(model, train_loader, val_loader, criterion, optimizer, epochs, device=device, patience=7)\n",
    "\n",
    "#  8. Loss 및 Accuracy 그래프 출력\n",
    "def plot_metrics(train_loss, val_loss, train_acc, val_acc):\n",
    "    fig, axs = plt.subplots(1, 2, figsize=(12, 5))\n",
    "\n",
    "    axs[0].plot(train_loss, label='Train Loss', linestyle=\"-\", marker=\"o\")\n",
    "    axs[0].plot(val_loss, label='Val Loss', linestyle=\"--\", marker=\"s\")\n",
    "    axs[0].set_xlabel('Epochs')\n",
    "    axs[0].set_ylabel('Loss')\n",
    "    axs[0].set_title('Train vs Validation Loss')\n",
    "    axs[0].legend()\n",
    "    axs[0].grid(True)\n",
    "\n",
    "    axs[1].plot(train_acc, label='Train Accuracy', linestyle=\"-\", marker=\"o\")\n",
    "    axs[1].plot(val_acc, label='Val Accuracy', linestyle=\"--\", marker=\"s\")\n",
    "    axs[1].set_xlabel('Epochs')\n",
    "    axs[1].set_ylabel('Accuracy (%)')\n",
    "    axs[1].set_title('Train vs Validation Accuracy')\n",
    "    axs[1].legend()\n",
    "    axs[1].grid(True)\n",
    "\n",
    "    plt.show()\n",
    "\n",
    "plot_metrics(train_loss, val_loss, train_acc, val_acc)"
   ]
  },
  {
   "cell_type": "code",
   "execution_count": 12,
   "metadata": {
    "colab": {
     "base_uri": "https://localhost:8080/"
    },
    "executionInfo": {
     "elapsed": 39,
     "status": "ok",
     "timestamp": 1741055834744,
     "user": {
      "displayName": "Seokhyeon Kwon",
      "userId": "02365031441986561291"
     },
     "user_tz": -540
    },
    "id": "KE9VpqsM8gCo",
    "outputId": "2928ae78-06a6-457a-d477-22c7f7aa4a52"
   },
   "outputs": [
    {
     "name": "stdout",
     "output_type": "stream",
     "text": [
      " 최적 Validation 모델을 사용한 Test Accuracy: 99.34%\n"
     ]
    }
   ],
   "source": [
    "#  9. 최적 모델 불러와서 Test 평가\n",
    "def test_loop(model, X_test, y_test, criterion, device='cpu'):\n",
    "    best_model_path = \"best_model.pth\"\n",
    "    model.load_state_dict(torch.load(best_model_path, map_location=device))\n",
    "    model.eval()\n",
    "\n",
    "    X_test_tensor = torch.tensor(X_test, dtype=torch.float32).to(device)\n",
    "    y_test_tensor = torch.tensor(y_test, dtype=torch.long).to(device)\n",
    "\n",
    "    with torch.no_grad():\n",
    "        outputs = model(X_test_tensor)\n",
    "        loss = criterion(outputs, y_test_tensor)\n",
    "\n",
    "        _, predicted = torch.max(outputs, 1)\n",
    "        accuracy = (predicted == y_test_tensor).sum().item() / len(y_test_tensor) * 100\n",
    "\n",
    "    print(f\" 최적 Validation 모델을 사용한 Test Accuracy: {accuracy:.2f}%\")\n",
    "    return loss.item(), accuracy\n",
    "\n",
    "# Test Accuracy 확인\n",
    "test_loss, test_acc = test_loop(model, X, y, criterion, device=device)"
   ]
  },
  {
   "cell_type": "code",
   "execution_count": 13,
   "metadata": {
    "colab": {
     "base_uri": "https://localhost:8080/"
    },
    "executionInfo": {
     "elapsed": 30,
     "status": "ok",
     "timestamp": 1741055834775,
     "user": {
      "displayName": "Seokhyeon Kwon",
      "userId": "02365031441986561291"
     },
     "user_tz": -540
    },
    "id": "jEa2wnV796B6",
    "outputId": "0e1e8907-9b1f-46f8-8fa7-7614a477a659"
   },
   "outputs": [
    {
     "name": "stdout",
     "output_type": "stream",
     "text": [
      "예측 결과: [0 0 0 0 0 0 0 0 0 0 0 0 0 0 0 0 0 0 0 0 0 0 0 0 0 0 0 0 0 0 0 0 0 0 0 0 0\n",
      " 0 0 0 0 0 0 0 0 0 0 0 0 0 0 0 0 0 0 0 0 0 0 0 0 0 0 0 0 0 0 0 0 0 0 0 0 0\n",
      " 0 0 0 0 0 0 0 0 0 0 0 0 0 0 0 0 0 0 0 0 0 0 0 0 0 0]\n"
     ]
    }
   ],
   "source": [
    "# 9. 새로운 데이터 예측 함수\n",
    "def predict(model, X_new, device='cpu'):\n",
    "    best_model_path = \"best_model.pth\"\n",
    "\n",
    "    #  가중치만 로드하도록 변경 (보안 권장)\n",
    "    model.load_state_dict(torch.load(best_model_path, map_location=device, weights_only=True))\n",
    "    model.eval()\n",
    "\n",
    "    X_new_tensor = torch.tensor(X_new, dtype=torch.float32).to(device)\n",
    "\n",
    "    with torch.no_grad():\n",
    "        outputs = model(X_new_tensor)\n",
    "        _, predictions = torch.max(outputs, 1)\n",
    "\n",
    "    return predictions.cpu().numpy()\n",
    "\n",
    "#  예측 예제\n",
    "X_new_sample = X[:100]\n",
    "predictions = predict(model, X_new_sample)\n",
    "print(\"예측 결과:\", predictions)"
   ]
  },
  {
   "cell_type": "code",
   "execution_count": 14,
   "metadata": {
    "colab": {
     "base_uri": "https://localhost:8080/"
    },
    "executionInfo": {
     "elapsed": 15,
     "status": "ok",
     "timestamp": 1741055834792,
     "user": {
      "displayName": "Seokhyeon Kwon",
      "userId": "02365031441986561291"
     },
     "user_tz": -540
    },
    "id": "J5Ii_RAx-ky_",
    "outputId": "658f95cc-a712-4ce3-b2c3-0482e438f2f7"
   },
   "outputs": [
    {
     "name": "stdout",
     "output_type": "stream",
     "text": [
      "\n",
      "예측 정확도: 100.00% (100/100 개 맞음)\n"
     ]
    }
   ],
   "source": [
    "def analyze_predictions(y_true, y_pred):\n",
    "    # DataFrame으로 정리하여 보기 쉽게 출력\n",
    "    df_results = pd.DataFrame({\n",
    "        'Actual': y_true,\n",
    "        'Predicted': y_pred,\n",
    "        'Correct': (y_true == y_pred)  # 맞으면 True, 틀리면 False\n",
    "    })\n",
    "\n",
    "    # 정확도 계산\n",
    "    accuracy = np.mean(df_results['Correct']) * 100  # 퍼센트 변환\n",
    "    correct_count = df_results['Correct'].sum()\n",
    "    total_count = len(df_results)\n",
    "\n",
    "    print(f\"\\n예측 정확도: {accuracy:.2f}% ({correct_count}/{total_count} 개 맞음)\")\n",
    "\n",
    "\n",
    "#  실제값과 예측값 비교 실행\n",
    "analyze_predictions(y[:100], predictions)\n"
   ]
  },
  {
   "cell_type": "code",
   "execution_count": null,
   "metadata": {
    "colab": {
     "base_uri": "https://localhost:8080/",
     "height": 407
    },
    "executionInfo": {
     "elapsed": 662,
     "status": "ok",
     "timestamp": 1741055835453,
     "user": {
      "displayName": "Seokhyeon Kwon",
      "userId": "02365031441986561291"
     },
     "user_tz": -540
    },
    "id": "Lv3ybkj224OM",
    "outputId": "f38ea89c-a0f9-4a8d-9264-3f1071caa81f"
   },
   "outputs": [
    {
     "data": {
      "image/png": "[encoded data removed]",
      "text/plain": [
       "<Figure size 1200x400 with 3 Axes>"
      ]
     },
     "metadata": {},
     "output_type": "display_data"
    }
   ],
   "source": [
    "#비선형데이터 파악\n",
    "\n",
    "\n",
    "# 주요 연속형 변수 선택\n",
    "numeric_features = ['tenure', 'MonthlyCharges', 'TotalCharges']\n",
    "\n",
    "# 그래프 출력\n",
    "plt.figure(figsize=(12, 4))\n",
    "\n",
    "for i, feature in enumerate(numeric_features):\n",
    "    plt.subplot(1, 3, i+1)\n",
    "    sns.scatterplot(x=df[feature], y=df['Churn'], alpha=0.5)\n",
    "    plt.xlabel(feature)\n",
    "    plt.ylabel('Churn')\n",
    "    plt.title(f\"{feature} vs Churn\")\n",
    "\n",
    "plt.tight_layout()\n",
    "plt.show()\n"
   ]
  }
 ],
 "metadata": {
  "colab": {
   "authorship_tag": "ABX9TyOgiJCvqeMrmVmleLF2XvKz",
   "provenance": [
    {
     "file_id": "14mi_zn4kAJGqNhS0-xWbNUTMWC-YMIOT",
     "timestamp": 1741049585113
    },
    {
     "file_id": "1WgnJ5Ax6AfcAhpCj2XPJWKfFSmZePtQ0",
     "timestamp": 1740967844678
    }
   ],
   "toc_visible": true
  },
  "kernelspec": {
   "display_name": ".venv",
   "language": "python",
   "name": "python3"
  },
  "language_info": {
   "codemirror_mode": {
    "name": "ipython",
    "version": 3
   },
   "file_extension": ".py",
   "mimetype": "text/x-python",
   "name": "python",
   "nbconvert_exporter": "python",
   "pygments_lexer": "ipython3",
   "version": "3.13.2"
  }
 },
 "nbformat": 4,
 "nbformat_minor": 0
}
